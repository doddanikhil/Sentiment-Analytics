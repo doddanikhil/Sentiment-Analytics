{
 "cells": [
  {
   "cell_type": "code",
   "execution_count": 5,
   "metadata": {},
   "outputs": [
    {
     "name": "stdout",
     "output_type": "stream",
     "text": [
      "Reddit API connected.\n"
     ]
    }
   ],
   "source": [
    "# Imports & Setup\n",
    "import praw\n",
    "import os\n",
    "import json\n",
    "from dotenv import load_dotenv\n",
    "from pathlib import Path\n",
    "import pandas as pd\n",
    "\n",
    "# Load Reddit API credentials\n",
    "load_dotenv(dotenv_path=\"../config/secrects.env\")\n",
    "\n",
    "reddit = praw.Reddit(\n",
    "    client_id=os.getenv(\"REDDIT_CLIENT_ID\"),\n",
    "    client_secret=os.getenv(\"REDDIT_SECRET\"),\n",
    "    user_agent=os.getenv(\"REDDIT_USER_AGENT\")\n",
    ")\n",
    "\n",
    "print(\"Reddit API connected.\")\n"
   ]
  },
  {
   "cell_type": "code",
   "execution_count": 6,
   "metadata": {},
   "outputs": [],
   "source": [
    "#Define Target Subreddits\n",
    "subreddits = [\"apple\", \"nike\", \"amazon\", \"retail\", \"ecommerce\"]\n",
    "\n",
    "# Number of posts to fetch per subreddit\n",
    "num_posts = 20\n"
   ]
  },
  {
   "cell_type": "code",
   "execution_count": 7,
   "metadata": {},
   "outputs": [
    {
     "name": "stdout",
     "output_type": "stream",
     "text": [
      "🔍 Collecting from r/apple...\n",
      "🔍 Collecting from r/nike...\n",
      "🔍 Collecting from r/amazon...\n",
      "🔍 Collecting from r/retail...\n",
      "🔍 Collecting from r/ecommerce...\n",
      "100 posts saved to reddit_posts.json\n"
     ]
    }
   ],
   "source": [
    "#Collect Posts and Save as JSON\n",
    "raw_data = []\n",
    "\n",
    "for sub in subreddits:\n",
    "    subreddit = reddit.subreddit(sub)\n",
    "    print(f\"🔍 Collecting from r/{sub}...\")\n",
    "\n",
    "    for post in subreddit.hot(limit=num_posts):\n",
    "        post_data = {\n",
    "            \"subreddit\": sub,\n",
    "            \"title\": post.title,\n",
    "            \"score\": post.score,\n",
    "            \"id\": post.id,\n",
    "            \"url\": post.url,\n",
    "            \"num_comments\": post.num_comments,\n",
    "            \"created\": post.created_utc,\n",
    "            \"text\": post.selftext\n",
    "        }\n",
    "        raw_data.append(post_data)\n",
    "\n",
    "# Ensure output folder exists\n",
    "output_dir = Path(\"../data/reddit_raw/\")\n",
    "output_dir.mkdir(parents=True, exist_ok=True)\n",
    "\n",
    "# Save as JSON\n",
    "with open(output_dir / \"reddit_posts.json\", \"w\", encoding=\"utf-8\") as f:\n",
    "    json.dump(raw_data, f, indent=4)\n",
    "\n",
    "print(f\"{len(raw_data)} posts saved to reddit_posts.json\")\n"
   ]
  },
  {
   "cell_type": "code",
   "execution_count": 8,
   "metadata": {},
   "outputs": [
    {
     "data": {
      "text/html": [
       "<div>\n",
       "<style scoped>\n",
       "    .dataframe tbody tr th:only-of-type {\n",
       "        vertical-align: middle;\n",
       "    }\n",
       "\n",
       "    .dataframe tbody tr th {\n",
       "        vertical-align: top;\n",
       "    }\n",
       "\n",
       "    .dataframe thead th {\n",
       "        text-align: right;\n",
       "    }\n",
       "</style>\n",
       "<table border=\"1\" class=\"dataframe\">\n",
       "  <thead>\n",
       "    <tr style=\"text-align: right;\">\n",
       "      <th></th>\n",
       "      <th>subreddit</th>\n",
       "      <th>title</th>\n",
       "      <th>score</th>\n",
       "      <th>id</th>\n",
       "      <th>url</th>\n",
       "      <th>num_comments</th>\n",
       "      <th>created</th>\n",
       "      <th>text</th>\n",
       "    </tr>\n",
       "  </thead>\n",
       "  <tbody>\n",
       "    <tr>\n",
       "      <th>0</th>\n",
       "      <td>apple</td>\n",
       "      <td>Daily Advice Thread - April 13, 2025</td>\n",
       "      <td>2</td>\n",
       "      <td>1jy49ym</td>\n",
       "      <td>https://www.reddit.com/r/apple/comments/1jy49y...</td>\n",
       "      <td>16</td>\n",
       "      <td>1.744538e+09</td>\n",
       "      <td>Welcome to the Daily Advice Thread for /r/Appl...</td>\n",
       "    </tr>\n",
       "    <tr>\n",
       "      <th>1</th>\n",
       "      <td>apple</td>\n",
       "      <td>Gurman: iPadOS 19 to be 'more like macOS' in m...</td>\n",
       "      <td>1940</td>\n",
       "      <td>1jy6fvb</td>\n",
       "      <td>https://9to5mac.com/2025/04/13/ipados-19-be-mo...</td>\n",
       "      <td>408</td>\n",
       "      <td>1.744547e+09</td>\n",
       "      <td></td>\n",
       "    </tr>\n",
       "    <tr>\n",
       "      <th>2</th>\n",
       "      <td>apple</td>\n",
       "      <td>US Commerce Secretary says exempted electronic...</td>\n",
       "      <td>423</td>\n",
       "      <td>1jy9hm8</td>\n",
       "      <td>https://www.reuters.com/markets/us-commerce-se...</td>\n",
       "      <td>83</td>\n",
       "      <td>1.744556e+09</td>\n",
       "      <td></td>\n",
       "    </tr>\n",
       "    <tr>\n",
       "      <th>3</th>\n",
       "      <td>apple</td>\n",
       "      <td>My app became App of the Day this week – here’...</td>\n",
       "      <td>330</td>\n",
       "      <td>1jy73za</td>\n",
       "      <td>https://www.reddit.com/r/apple/comments/1jy73z...</td>\n",
       "      <td>538</td>\n",
       "      <td>1.744549e+09</td>\n",
       "      <td>Last Monday, my app Griply became [App of the ...</td>\n",
       "    </tr>\n",
       "    <tr>\n",
       "      <th>4</th>\n",
       "      <td>apple</td>\n",
       "      <td>Apple Readies Pair of Headsets While Still Loo...</td>\n",
       "      <td>221</td>\n",
       "      <td>1jy64bk</td>\n",
       "      <td>https://www.bloomberg.com/news/newsletters/202...</td>\n",
       "      <td>44</td>\n",
       "      <td>1.744546e+09</td>\n",
       "      <td></td>\n",
       "    </tr>\n",
       "  </tbody>\n",
       "</table>\n",
       "</div>"
      ],
      "text/plain": [
       "  subreddit                                              title  score  \\\n",
       "0     apple               Daily Advice Thread - April 13, 2025      2   \n",
       "1     apple  Gurman: iPadOS 19 to be 'more like macOS' in m...   1940   \n",
       "2     apple  US Commerce Secretary says exempted electronic...    423   \n",
       "3     apple  My app became App of the Day this week – here’...    330   \n",
       "4     apple  Apple Readies Pair of Headsets While Still Loo...    221   \n",
       "\n",
       "        id                                                url  num_comments  \\\n",
       "0  1jy49ym  https://www.reddit.com/r/apple/comments/1jy49y...            16   \n",
       "1  1jy6fvb  https://9to5mac.com/2025/04/13/ipados-19-be-mo...           408   \n",
       "2  1jy9hm8  https://www.reuters.com/markets/us-commerce-se...            83   \n",
       "3  1jy73za  https://www.reddit.com/r/apple/comments/1jy73z...           538   \n",
       "4  1jy64bk  https://www.bloomberg.com/news/newsletters/202...            44   \n",
       "\n",
       "        created                                               text  \n",
       "0  1.744538e+09  Welcome to the Daily Advice Thread for /r/Appl...  \n",
       "1  1.744547e+09                                                     \n",
       "2  1.744556e+09                                                     \n",
       "3  1.744549e+09  Last Monday, my app Griply became [App of the ...  \n",
       "4  1.744546e+09                                                     "
      ]
     },
     "execution_count": 8,
     "metadata": {},
     "output_type": "execute_result"
    }
   ],
   "source": [
    "#Optional – Convert to DataFrame and Preview\n",
    "df = pd.DataFrame(raw_data)\n",
    "df.head()\n"
   ]
  }
 ],
 "metadata": {
  "kernelspec": {
   "display_name": "venv",
   "language": "python",
   "name": "python3"
  },
  "language_info": {
   "codemirror_mode": {
    "name": "ipython",
    "version": 3
   },
   "file_extension": ".py",
   "mimetype": "text/x-python",
   "name": "python",
   "nbconvert_exporter": "python",
   "pygments_lexer": "ipython3",
   "version": "3.13.1"
  }
 },
 "nbformat": 4,
 "nbformat_minor": 2
}
