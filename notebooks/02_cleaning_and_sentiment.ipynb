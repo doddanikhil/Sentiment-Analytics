{
 "cells": [
  {
   "cell_type": "code",
   "execution_count": null,
   "metadata": {},
   "outputs": [
    {
     "data": {
      "text/plain": [
       "((100, 8),\n",
       " Index(['subreddit', 'title', 'score', 'id', 'url', 'num_comments', 'created',\n",
       "        'text'],\n",
       "       dtype='object'))"
      ]
     },
     "execution_count": 1,
     "metadata": {},
     "output_type": "execute_result"
    }
   ],
   "source": [
    "#Import & Load Raw Reddit Data\n",
    "import json\n",
    "import pandas as pd\n",
    "import re\n",
    "from pathlib import Path\n",
    "from textblob import TextBlob\n",
    "\n",
    "# Load the raw Reddit posts\n",
    "raw_file = Path(\"../data/reddit_raw/reddit_posts.json\")\n",
    "\n",
    "with open(raw_file, \"r\", encoding=\"utf-8\") as f:\n",
    "    data = json.load(f)\n",
    "\n",
    "df = pd.DataFrame(data)\n",
    "df.shape, df.columns\n"
   ]
  },
  {
   "cell_type": "code",
   "execution_count": null,
   "metadata": {},
   "outputs": [],
   "source": [
    "#Text Cleaning Function\n",
    "def clean_text(text):\n",
    "    if not text:\n",
    "        return \"\"\n",
    "    text = re.sub(r\"http\\S+\", \"\", text)                 # Remove URLs\n",
    "    text = re.sub(r\"[^A-Za-z0-9\\s]+\", \"\", text)         # Remove special characters\n",
    "    text = re.sub(r\"\\s+\", \" \", text).strip()            # Normalize whitespace\n",
    "    return text\n"
   ]
  },
  {
   "cell_type": "code",
   "execution_count": 3,
   "metadata": {},
   "outputs": [
    {
     "data": {
      "text/html": [
       "<div>\n",
       "<style scoped>\n",
       "    .dataframe tbody tr th:only-of-type {\n",
       "        vertical-align: middle;\n",
       "    }\n",
       "\n",
       "    .dataframe tbody tr th {\n",
       "        vertical-align: top;\n",
       "    }\n",
       "\n",
       "    .dataframe thead th {\n",
       "        text-align: right;\n",
       "    }\n",
       "</style>\n",
       "<table border=\"1\" class=\"dataframe\">\n",
       "  <thead>\n",
       "    <tr style=\"text-align: right;\">\n",
       "      <th></th>\n",
       "      <th>subreddit</th>\n",
       "      <th>full_text</th>\n",
       "    </tr>\n",
       "  </thead>\n",
       "  <tbody>\n",
       "    <tr>\n",
       "      <th>0</th>\n",
       "      <td>apple</td>\n",
       "      <td>Daily Advice Thread April 13 2025 Welcome to t...</td>\n",
       "    </tr>\n",
       "    <tr>\n",
       "      <th>1</th>\n",
       "      <td>apple</td>\n",
       "      <td>Gurman iPadOS 19 to be more like macOS in majo...</td>\n",
       "    </tr>\n",
       "    <tr>\n",
       "      <th>2</th>\n",
       "      <td>apple</td>\n",
       "      <td>US Commerce Secretary says exempted electronic...</td>\n",
       "    </tr>\n",
       "    <tr>\n",
       "      <th>3</th>\n",
       "      <td>apple</td>\n",
       "      <td>My app became App of the Day this week heres t...</td>\n",
       "    </tr>\n",
       "    <tr>\n",
       "      <th>4</th>\n",
       "      <td>apple</td>\n",
       "      <td>Apple Readies Pair of Headsets While Still Loo...</td>\n",
       "    </tr>\n",
       "  </tbody>\n",
       "</table>\n",
       "</div>"
      ],
      "text/plain": [
       "  subreddit                                          full_text\n",
       "0     apple  Daily Advice Thread April 13 2025 Welcome to t...\n",
       "1     apple  Gurman iPadOS 19 to be more like macOS in majo...\n",
       "2     apple  US Commerce Secretary says exempted electronic...\n",
       "3     apple  My app became App of the Day this week heres t...\n",
       "4     apple  Apple Readies Pair of Headsets While Still Loo..."
      ]
     },
     "execution_count": 3,
     "metadata": {},
     "output_type": "execute_result"
    }
   ],
   "source": [
    "#Apply Cleaning and Drop Empty Posts\n",
    "# Combine title and text for better sentiment context\n",
    "df[\"full_text\"] = df[\"title\"].fillna(\"\") + \" \" + df[\"text\"].fillna(\"\")\n",
    "df[\"full_text\"] = df[\"full_text\"].apply(clean_text)\n",
    "\n",
    "# Remove empty rows\n",
    "df = df[df[\"full_text\"].str.strip() != \"\"]\n",
    "df.reset_index(drop=True, inplace=True)\n",
    "df[[\"subreddit\", \"full_text\"]].head()\n"
   ]
  },
  {
   "cell_type": "code",
   "execution_count": 4,
   "metadata": {},
   "outputs": [
    {
     "data": {
      "text/html": [
       "<div>\n",
       "<style scoped>\n",
       "    .dataframe tbody tr th:only-of-type {\n",
       "        vertical-align: middle;\n",
       "    }\n",
       "\n",
       "    .dataframe tbody tr th {\n",
       "        vertical-align: top;\n",
       "    }\n",
       "\n",
       "    .dataframe thead th {\n",
       "        text-align: right;\n",
       "    }\n",
       "</style>\n",
       "<table border=\"1\" class=\"dataframe\">\n",
       "  <thead>\n",
       "    <tr style=\"text-align: right;\">\n",
       "      <th></th>\n",
       "      <th>full_text</th>\n",
       "      <th>sentiment</th>\n",
       "    </tr>\n",
       "  </thead>\n",
       "  <tbody>\n",
       "    <tr>\n",
       "      <th>0</th>\n",
       "      <td>Daily Advice Thread April 13 2025 Welcome to t...</td>\n",
       "      <td>positive</td>\n",
       "    </tr>\n",
       "    <tr>\n",
       "      <th>1</th>\n",
       "      <td>Gurman iPadOS 19 to be more like macOS in majo...</td>\n",
       "      <td>positive</td>\n",
       "    </tr>\n",
       "    <tr>\n",
       "      <th>2</th>\n",
       "      <td>US Commerce Secretary says exempted electronic...</td>\n",
       "      <td>neutral</td>\n",
       "    </tr>\n",
       "    <tr>\n",
       "      <th>3</th>\n",
       "      <td>My app became App of the Day this week heres t...</td>\n",
       "      <td>positive</td>\n",
       "    </tr>\n",
       "    <tr>\n",
       "      <th>4</th>\n",
       "      <td>Apple Readies Pair of Headsets While Still Loo...</td>\n",
       "      <td>neutral</td>\n",
       "    </tr>\n",
       "  </tbody>\n",
       "</table>\n",
       "</div>"
      ],
      "text/plain": [
       "                                           full_text sentiment\n",
       "0  Daily Advice Thread April 13 2025 Welcome to t...  positive\n",
       "1  Gurman iPadOS 19 to be more like macOS in majo...  positive\n",
       "2  US Commerce Secretary says exempted electronic...   neutral\n",
       "3  My app became App of the Day this week heres t...  positive\n",
       "4  Apple Readies Pair of Headsets While Still Loo...   neutral"
      ]
     },
     "execution_count": 4,
     "metadata": {},
     "output_type": "execute_result"
    }
   ],
   "source": [
    "#Sentiment Analysis with Textblob\n",
    "def get_sentiment(text):\n",
    "    blob = TextBlob(text)\n",
    "    polarity = blob.sentiment.polarity\n",
    "    if polarity > 0.1:\n",
    "        return \"positive\"\n",
    "    elif polarity < -0.1:\n",
    "        return \"negative\"\n",
    "    else:\n",
    "        return \"neutral\"\n",
    "\n",
    "df[\"sentiment\"] = df[\"full_text\"].apply(get_sentiment)\n",
    "df[[\"full_text\", \"sentiment\"]].head()"
   ]
  },
  {
   "cell_type": "code",
   "execution_count": 5,
   "metadata": {},
   "outputs": [
    {
     "name": "stdout",
     "output_type": "stream",
     "text": [
      "✅ Sentiment-tagged data saved to reddit_sentiment.csv\n"
     ]
    }
   ],
   "source": [
    "#Save Sentiment Results\n",
    "output_dir = Path(\"../data/reddit_cleaned/\")\n",
    "output_dir.mkdir(parents=True, exist_ok=True)\n",
    "\n",
    "df.to_csv(output_dir / \"reddit_sentiment.csv\", index=False)\n",
    "print(f\"✅ Sentiment-tagged data saved to reddit_sentiment.csv\")\n"
   ]
  }
 ],
 "metadata": {
  "kernelspec": {
   "display_name": "venv",
   "language": "python",
   "name": "python3"
  },
  "language_info": {
   "codemirror_mode": {
    "name": "ipython",
    "version": 3
   },
   "file_extension": ".py",
   "mimetype": "text/x-python",
   "name": "python",
   "nbconvert_exporter": "python",
   "pygments_lexer": "ipython3",
   "version": "3.13.1"
  }
 },
 "nbformat": 4,
 "nbformat_minor": 2
}
